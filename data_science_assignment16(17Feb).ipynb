{
 "cells": [
  {
   "cell_type": "markdown",
   "id": "370b9e82",
   "metadata": {},
   "source": [
    "# Assignment 16"
   ]
  },
  {
   "cell_type": "markdown",
   "id": "1330f6d6",
   "metadata": {},
   "source": [
    "Q1. What is MongoDB? Explain non-relational databases in short. In which scenarios it is preferred to use\n",
    "MongoDB over SQL databases?\n",
    "\n",
    "Ans. MongoDB is a popular document-oriented NoSQL database management system. Unlike SQL databases, which are relational, MongoDB is a non-relational or document-based database. MongoDB stores data in collections of documents, rather than in tables with fixed schemas.\n",
    "\n",
    "Non-relational databases, also known as NoSQL databases, are databases that do not use the traditional relational database model. Instead, they use a variety of data models, such as document-based, key-value, column-based, and graph-based models. Non-relational databases are designed to handle large amounts of unstructured or semi-structured data, which can be difficult to manage in a traditional SQL database.\n",
    "\n",
    "MongoDB is preferred over SQL databases in scenarios where:\n",
    "\n",
    "Flexibility and scalability are important: MongoDB can handle unstructured data, which makes it easier to store and retrieve data without worrying about the structure of the data. This makes it easier to scale the database as data volumes increase over time.\n",
    "\n",
    "Rapid application development: MongoDB's flexible document model and dynamic schema make it easier for developers to work with, as they do not have to worry about schema changes or database migrations.\n",
    "\n",
    "Big data and real-time analytics: MongoDB's ability to handle large volumes of unstructured data makes it ideal for big data and real-time analytics applications. It can also handle complex queries and aggregations in real-time, making it suitable for use in real-time analytics.\n",
    "\n",
    "Cloud computing: MongoDB is a popular database for cloud computing, as it can be easily deployed and managed in the cloud. It also supports horizontal scaling, which allows it to handle large workloads in a cloud environment"
   ]
  },
  {
   "cell_type": "markdown",
   "id": "c9e7561c",
   "metadata": {},
   "source": [
    "Q2. State and Explain the features of MongoDB.\n",
    "\n",
    "Ans. MongoDB is a popular NoSQL document-based database management system that offers a range of features. Some of the key features of MongoDB are:\n",
    "\n",
    "Document-oriented: MongoDB is a document-oriented database, which means it stores data in flexible and semi-structured documents. This makes it easy to store and retrieve data without having to follow a fixed schema, and allows for easier scaling.\n",
    "\n",
    "Dynamic schema: MongoDB's dynamic schema allows for easy modification and evolution of the database schema, without having to make any changes to the existing data.\n",
    "\n",
    "High performance: MongoDB is designed to handle high volume, high velocity data with low latency, making it ideal for real-time applications.\n",
    "\n",
    "Scalability: MongoDB is horizontally scalable, which means it can easily handle growing amounts of data by distributing the data across multiple servers.\n",
    "\n",
    "Indexing: MongoDB supports indexing on any field, making it easy to optimize queries and improve performance.\n",
    "\n",
    "Aggregation: MongoDB provides powerful aggregation and grouping capabilities, making it easy to extract meaningful insights from large datasets.\n",
    "\n",
    "Security: MongoDB provides a range of security features, including authentication, authorization, and encryption, to ensure the confidentiality, integrity, and availability of data.\n",
    "\n",
    "Support for multiple data types: MongoDB supports a range of data types, including strings, integers, floating-point numbers, dates, geospatial data, and binary data.\n",
    "\n",
    "Replication and backup: MongoDB supports replication, which allows for easy backup and disaster recovery. It also provides automatic failover and high availability through replica sets.\n",
    "\n",
    "In summary, MongoDB offers a range of features that make it ideal for handling large volumes of unstructured data, providing high performance and scalability, and supporting advanced querying and aggregation. Additionally, MongoDB provides robust security features and supports multiple data types."
   ]
  },
  {
   "cell_type": "markdown",
   "id": "3d106150",
   "metadata": {},
   "source": [
    "Q3. Write a code to connect MongoDB to Python. Also, create a database and a collection in MongoDB."
   ]
  },
  {
   "cell_type": "code",
   "execution_count": null,
   "id": "09b383fd",
   "metadata": {},
   "outputs": [],
   "source": [
    "# Importing required modules\n",
    "from pymongo import MongoClient\n",
    "\n",
    "# Creating a MongoDB client\n",
    "client = MongoClient()\n",
    "\n",
    "# Creating a new database named 'mydatabase'\n",
    "mydb = client['mydatabase']\n",
    "\n",
    "# Creating a new collection named 'customers'\n",
    "customers = mydb['customers']\n",
    "\n",
    "# Inserting a new document into the 'customers' collection\n",
    "customer = {\n",
    "    'name': 'John Doe',\n",
    "    'email': 'johndoe@example.com',\n",
    "    'phone': '555-1234'\n",
    "}\n",
    "customers.insert_one(customer)\n",
    "\n",
    "# Retrieving all documents from the 'customers' collection\n",
    "for customer in customers.find():\n",
    "    print(customer)\n"
   ]
  },
  {
   "cell_type": "markdown",
   "id": "87e85743",
   "metadata": {},
   "source": [
    "Q4. Using the database and the collection created in question number 3, write a code to insert one record,\n",
    "and insert many records. Use the find() and find_one() methods to print the inserted record.\n",
    "\n",
    "Ans. "
   ]
  },
  {
   "cell_type": "code",
   "execution_count": null,
   "id": "55cfaf81",
   "metadata": {},
   "outputs": [],
   "source": [
    "# Importing required modules\n",
    "from pymongo import MongoClient\n",
    "\n",
    "# Creating a MongoDB client\n",
    "client = MongoClient()\n",
    "\n",
    "# Creating a new database named 'mydatabase'\n",
    "mydb = client['mydatabase']\n",
    "\n",
    "# Creating a new collection named 'customers'\n",
    "customers = mydb['customers']\n",
    "\n",
    "# Inserting a single document into the 'customers' collection\n",
    "customer1 = {\n",
    "    'name': 'Jane Doe',\n",
    "    'email': 'janedoe@example.com',\n",
    "    'phone': '555-5678'\n",
    "}\n",
    "result1 = customers.insert_one(customer1)\n",
    "print(f\"Inserted record with id: {result1.inserted_id}\")\n",
    "\n",
    "# Inserting multiple documents into the 'customers' collection\n",
    "customers_list = [\n",
    "    {\n",
    "        'name': 'Bob Smith',\n",
    "        'email': 'bobsmith@example.com',\n",
    "        'phone': '555-9012'\n",
    "    },\n",
    "    {\n",
    "        'name': 'Alice Johnson',\n",
    "        'email': 'alicejohnson@example.com',\n",
    "        'phone': '555-3456'\n",
    "    },\n",
    "    {\n",
    "        'name': 'Tom Wilson',\n",
    "        'email': 'tomwilson@example.com',\n",
    "        'phone': '555-7890'\n",
    "    }\n",
    "]\n",
    "result2 = customers.insert_many(customers_list)\n",
    "print(f\"Inserted {len(result2.inserted_ids)} records\")\n",
    "\n",
    "# Retrieving a single document from the 'customers' collection\n",
    "customer = customers.find_one({'name': 'Jane Doe'})\n",
    "print(customer)\n",
    "\n",
    "# Retrieving all documents from the 'customers' collection\n",
    "for customer in customers.find():\n",
    "    print(customer)\n"
   ]
  },
  {
   "cell_type": "markdown",
   "id": "26047127",
   "metadata": {},
   "source": [
    "Q5. Explain how you can use the find() method to query the MongoDB database. Write a simple code to\n",
    "demonstrate this.\n",
    "\n",
    "Ans. The find() method is used to query the MongoDB database and retrieve documents that match the specified query criteria. The find() method takes a query object as an argument, which specifies the criteria for selecting documents from the collection.\n",
    "\n",
    "The query object can contain one or more key-value pairs, where each key represents a field in the document, and the corresponding value represents the value to match for that field. The query object can also use comparison operators such as $gt, $lt, $gte, $lte, $ne, etc., to specify more complex query criteria.\n",
    "\n",
    "Here's an example code that demonstrates how to use the find() method to query the 'customers' collection in the 'mydatabase' database for all customers whose name is 'John Doe':"
   ]
  },
  {
   "cell_type": "code",
   "execution_count": null,
   "id": "52eb6e36",
   "metadata": {},
   "outputs": [],
   "source": [
    "# Importing required modules\n",
    "from pymongo import MongoClient\n",
    "\n",
    "# Creating a MongoDB client\n",
    "client = MongoClient()\n",
    "\n",
    "# Creating a new database named 'mydatabase'\n",
    "mydb = client['mydatabase']\n",
    "\n",
    "# Creating a new collection named 'customers'\n",
    "customers = mydb['customers']\n",
    "\n",
    "# Querying the 'customers' collection for all customers with name 'John Doe'\n",
    "query = {'name': 'John Doe'}\n",
    "results = customers.find(query)\n",
    "\n",
    "# Printing the matching documents\n",
    "for result in results:\n",
    "    print(result)\n"
   ]
  },
  {
   "cell_type": "markdown",
   "id": "c796cbb8",
   "metadata": {},
   "source": [
    "Q6. Explain the sort() method. Give an example to demonstrate sorting in MongoDB.\n",
    "\n",
    "Ans. The sort() method in MongoDB is used to sort the result set of a query in either ascending or descending order. The sort() method takes a field or list of fields to sort on as an argument, along with an optional direction argument (1 for ascending order, -1 for descending order).\n",
    "\n",
    "Here's an example code that demonstrates how to use the sort() method to sort the 'customers' collection in the 'mydatabase' database by the 'name' field in ascending order"
   ]
  },
  {
   "cell_type": "code",
   "execution_count": null,
   "id": "9c0d42fc",
   "metadata": {},
   "outputs": [],
   "source": [
    "# Importing required modules\n",
    "from pymongo import MongoClient\n",
    "\n",
    "# Creating a MongoDB client\n",
    "client = MongoClient()\n",
    "\n",
    "# Creating a new database named 'mydatabase'\n",
    "mydb = client['mydatabase']\n",
    "\n",
    "# Creating a new collection named 'customers'\n",
    "customers = mydb['customers']\n",
    "\n",
    "# Querying the 'customers' collection and sorting by 'name' in ascending order\n",
    "results = customers.find().sort('name', 1)\n",
    "\n",
    "# Printing the sorted documents\n",
    "for result in results:\n",
    "    print(result)\n"
   ]
  },
  {
   "cell_type": "markdown",
   "id": "1061d8d1",
   "metadata": {},
   "source": [
    "Q7. Explain why delete_one(), delete_many(), and drop() is used.\n",
    "\n",
    "Ans. In MongoDB, delete_one(), delete_many(), and drop() methods are used to remove documents or collections from a database.\n",
    "\n",
    "delete_one() method: This method removes a single document from a collection that matches the specified criteria. If multiple documents match the criteria, only the first matching document is deleted.\n",
    "For example, consider the following code that deletes the first document from the 'customers' collection where the name is 'John Doe':\n",
    "\n",
    "\n",
    "customers.delete_one({'name': 'John Doe'})\n",
    "\n",
    "delete_many() method: This method removes multiple documents from a collection that match the specified criteria.\n",
    "For example, consider the following code that deletes all documents from the 'customers' collection where the name is 'John Doe':\n",
    "\n",
    "customers.delete_many({'name': 'John Doe'})\n",
    "\n",
    "drop() method: This method is used to remove an entire collection from the database. The collection and all its documents are permanently deleted from the database.\n",
    "For example, consider the following code that drops the 'customers' collection from the 'mydatabase' database:\n",
    "\n",
    "mydb.customers.drop()\n",
    "\n",
    "The delete_one() and delete_many() methods are useful when you want to remove specific documents from a collection based on certain criteria, while the drop() method is useful when you want to delete an entire collection from the database.\n",
    "\n",
    "\n",
    "\n",
    "\n"
   ]
  },
  {
   "cell_type": "code",
   "execution_count": null,
   "id": "700c7884",
   "metadata": {},
   "outputs": [],
   "source": []
  }
 ],
 "metadata": {
  "kernelspec": {
   "display_name": "Python 3 (ipykernel)",
   "language": "python",
   "name": "python3"
  },
  "language_info": {
   "codemirror_mode": {
    "name": "ipython",
    "version": 3
   },
   "file_extension": ".py",
   "mimetype": "text/x-python",
   "name": "python",
   "nbconvert_exporter": "python",
   "pygments_lexer": "ipython3",
   "version": "3.9.12"
  }
 },
 "nbformat": 4,
 "nbformat_minor": 5
}
